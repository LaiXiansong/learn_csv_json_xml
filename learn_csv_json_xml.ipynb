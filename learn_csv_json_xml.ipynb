{
 "cells": [
  {
   "cell_type": "markdown",
   "metadata": {},
   "source": [
    "# python处理CSV/JSON/XML数据"
   ]
  },
  {
   "cell_type": "markdown",
   "metadata": {},
   "source": [
    "csv、json和xml是三种主流的数据格式。"
   ]
  },
  {
   "cell_type": "markdown",
   "metadata": {},
   "source": [
    "## csv数据"
   ]
  },
  {
   "cell_type": "markdown",
   "metadata": {},
   "source": [
    "存储数据最常用的格式（kaggle比赛的大部分数据格式）。可以使用python自带的csv库读取和写入："
   ]
  },
  {
   "cell_type": "markdown",
   "metadata": {},
   "source": [
    "### csv数据的读取"
   ]
  },
  {
   "cell_type": "code",
   "execution_count": 49,
   "metadata": {},
   "outputs": [],
   "source": [
    "import csv\n",
    "\n",
    "filename  = \"datasets/mnist_test.csv\"\n",
    "\n",
    "filed = []\n",
    "rows = []\n",
    "\n",
    "# reading csv file\n",
    "with open(filename, 'r') as csvfile:\n",
    "    # creating a csv reader object\n",
    "    csvreader = csv.reader(csvfile)\n",
    "\n",
    "    # extracting filed names in the first row\n",
    "    filed = next(csvreader)\n",
    "\n",
    "    # extracting each data row one by one\n",
    "    for row in csvreader:\n",
    "        rows.append(row)\n",
    "\n",
    "# printing out the first row\n",
    "# for row in rows[:1]:\n",
    "#     print(row)\n"
   ]
  },
  {
   "cell_type": "markdown",
   "metadata": {},
   "source": [
    "1. 教程中有错误：在python3中，csvreader的下一个读取方式不再是\"csvreader.next()\"而是next(csvreader)"
   ]
  },
  {
   "cell_type": "markdown",
   "metadata": {},
   "source": [
    "### csv数据的写入"
   ]
  },
  {
   "cell_type": "code",
   "execution_count": 50,
   "metadata": {},
   "outputs": [
    {
     "name": "stdout",
     "output_type": "stream",
     "text": [
      "Name,Goals,Assists,Shots\n",
      "\n",
      "['Emily', '12', '18', '112']\n",
      "['Katie', '8', '24', '96']\n",
      "['John', '16', '9', '101']\n",
      "['Mike', '3', '14', '82']\n"
     ]
    }
   ],
   "source": [
    "# field names\n",
    "fileds = ['Name', 'Goals', 'Assists', 'Shots']\n",
    "\n",
    "# rows of data in the csv file\n",
    "rows = [['Emily', '12', '18', '112'],\n",
    "        ['Katie', '8', '24', '96'],\n",
    "        ['John', '16', '9', '101'],\n",
    "        ['Mike', '3', '14', '82']]\n",
    "\n",
    "# writing to csv file\n",
    "with open(\"datasets/soccer.csv\", 'w+', newline='') as csvfile:  # add \"new=''\" to avoid blank row\n",
    "    # creating a csv writer object\n",
    "    csvwriter = csv.writer(csvfile)\n",
    "\n",
    "    # writing the fileds\n",
    "    csvwriter.writerow(fileds)\n",
    "\n",
    "    # writing the data rows\n",
    "    csvwriter.writerows(rows)\n",
    "\n",
    "# 读取写入的csv数据\n",
    "filed = []\n",
    "rows = []\n",
    "\n",
    "with open(\"datasets/soccer.csv\", 'r') as csvfile:\n",
    "    csvreader = csv.reader(csvfile)\n",
    "    filed = next(csvfile)\n",
    "    for row in csvreader:\n",
    "        rows.append(row)\n",
    "print(filed)\n",
    "for row in rows:\n",
    "    print(row)\n",
    "\n"
   ]
  },
  {
   "cell_type": "markdown",
   "metadata": {},
   "source": [
    "1. csv的方法\"writerow\"和\"writerows\"的用法不同，一维和二维  \n",
    "2. 打开文件时加上“newline=''”才不会有空行"
   ]
  },
  {
   "cell_type": "markdown",
   "metadata": {},
   "source": [
    "### 用pandas将csv格式的数据转化"
   ]
  },
  {
   "cell_type": "code",
   "execution_count": 18,
   "metadata": {},
   "outputs": [
    {
     "name": "stdout",
     "output_type": "stream",
     "text": [
      "[{'Name': 'Emily', 'Goals': 12, 'Assists': 18, 'Shots': 112}, {'Name': 'Katie', 'Goals': 8, 'Assists': 24, 'Shots': 96}, {'Name': 'John', 'Goals': 16, 'Assists': 9, 'Shots': 101}, {'Name': 'Mike', 'Goals': 3, 'Assists': 14, 'Shots': 82}]\n"
     ]
    }
   ],
   "source": [
    "import pandas as pd\n",
    "\n",
    "# header=0: 以第0行的数据为列名\n",
    "\n",
    "dic_from_csv = pd.read_csv('datasets/soccer.csv', header=0).to_dict('records')\n",
    "print(dic_from_csv)"
   ]
  },
  {
   "cell_type": "markdown",
   "metadata": {},
   "source": [
    "1. 加上“orient='records'”，否则字典构造会自动加上列索引，影响xml文件的转换"
   ]
  },
  {
   "cell_type": "markdown",
   "metadata": {},
   "source": [
    "### csv数据转化为其他数据"
   ]
  },
  {
   "cell_type": "markdown",
   "metadata": {},
   "source": [
    "通过上一步，csv转化为了dict，再通过dict写json和xml文件"
   ]
  },
  {
   "cell_type": "code",
   "execution_count": 26,
   "metadata": {},
   "outputs": [],
   "source": [
    "# csv to json\n",
    "import json\n",
    "\n",
    "with open(\"datasets/soccer.json\", 'w+') as json_file:\n",
    "    json.dump(dic_from_csv, json_file, indent=4)\n",
    "\n",
    "# csv to xml\n",
    "from dicttoxml import dicttoxml\n",
    "\n",
    "# decode the dict and convert it to str\n",
    "# then write a xml file\n",
    "xml_data = dicttoxml(dic_from_csv).decode()\n",
    "with open(\"datasets/soccer.xml\", \"w+\") as xml_file:\n",
    "    xml_file.write(xml_data)"
   ]
  },
  {
   "cell_type": "markdown",
   "metadata": {},
   "source": [
    "## json数据"
   ]
  },
  {
   "cell_type": "markdown",
   "metadata": {},
   "source": [
    "json数据简洁易读，保持了字典结构。python中同样有内置json模块"
   ]
  },
  {
   "cell_type": "markdown",
   "metadata": {},
   "source": [
    "### json数据的读取"
   ]
  },
  {
   "cell_type": "code",
   "execution_count": 21,
   "metadata": {},
   "outputs": [
    {
     "name": "stdout",
     "output_type": "stream",
     "text": [
      "    Name  Goals  Assists  Shots\n",
      "0  Emily     12       18    112\n",
      "1  Katie      8       24     96\n",
      "2   John     16        9    101\n",
      "3   Mike      3       14     82\n"
     ]
    }
   ],
   "source": [
    "# read the data from file\n",
    "# we now have a python dictionary\n",
    "with open('datasets/soccer.json') as f:\n",
    "    data_listofdict = json.load(f)\n",
    "\n",
    "# we can do the same thing with pandas\n",
    "# pandas read the file, turn it to df(dataframe)\n",
    "data_df = pd.read_json('datasets/soccer.json', orient='records')\n",
    "print(data_df)"
   ]
  },
  {
   "cell_type": "markdown",
   "metadata": {},
   "source": [
    "### json数据的写入"
   ]
  },
  {
   "cell_type": "code",
   "execution_count": 47,
   "metadata": {},
   "outputs": [],
   "source": [
    "# we can write a dictionary to json like so\n",
    "# use 'indent'  and 'sort_keys' to make the json\n",
    "# file look nice\n",
    "with open('datasets/new_soccer.json', 'w+') as json_file:\n",
    "    json.dump(data_listofdict, json_file, indent=4)\n",
    "\n",
    "# and again the same things with pandas\n",
    "exports = data_df.to_json('datasets/new_soccer.json', orient='records')"
   ]
  },
  {
   "cell_type": "markdown",
   "metadata": {},
   "source": [
    "## XML数据"
   ]
  },
  {
   "cell_type": "markdown",
   "metadata": {},
   "source": [
    "xml数据和前两者不同。  \n",
    "disadv:  \n",
    "1.占用空间多  \n",
    "2.传输和储存需要更大的带宽、更多的空间和运行时间  \n",
    "adv:   \n",
    "1.可以使用namespace构建、共享标准结构，更好继承"
   ]
  },
  {
   "cell_type": "markdown",
   "metadata": {},
   "source": [
    "导入xml数据需要用到xml内置模块和子模ElementTree。xmltodict库可以将ElementTree转化为字典，从而转换为csv、xml、df。"
   ]
  },
  {
   "cell_type": "markdown",
   "metadata": {},
   "source": [
    "### xml数据的读取"
   ]
  },
  {
   "cell_type": "code",
   "execution_count": 46,
   "metadata": {},
   "outputs": [
    {
     "name": "stdout",
     "output_type": "stream",
     "text": [
      "{'root': OrderedDict([('item', [OrderedDict([('@type', 'dict'), ('Name', OrderedDict([('@type', 'str'), ('#text', 'Emily')])), ('Goals', OrderedDict([('@type', 'int'), ('#text', '12')])), ('Assists', OrderedDict([('@type', 'int'), ('#text', '18')])), ('Shots', OrderedDict([('@type', 'int'), ('#text', '112')]))]), OrderedDict([('@type', 'dict'), ('Name', OrderedDict([('@type', 'str'), ('#text', 'Katie')])), ('Goals', OrderedDict([('@type', 'int'), ('#text', '8')])), ('Assists', OrderedDict([('@type', 'int'), ('#text', '24')])), ('Shots', OrderedDict([('@type', 'int'), ('#text', '96')]))]), OrderedDict([('@type', 'dict'), ('Name', OrderedDict([('@type', 'str'), ('#text', 'John')])), ('Goals', OrderedDict([('@type', 'int'), ('#text', '16')])), ('Assists', OrderedDict([('@type', 'int'), ('#text', '9')])), ('Shots', OrderedDict([('@type', 'int'), ('#text', '101')]))]), OrderedDict([('@type', 'dict'), ('Name', OrderedDict([('@type', 'str'), ('#text', 'Mike')])), ('Goals', OrderedDict([('@type', 'int'), ('#text', '3')])), ('Assists', OrderedDict([('@type', 'int'), ('#text', '14')])), ('Shots', OrderedDict([('@type', 'int'), ('#text', '82')]))])])])}\n"
     ]
    }
   ],
   "source": [
    "import xml.etree.ElementTree as ET\n",
    "import xmltodict\n",
    "\n",
    "tree = ET.parse('datasets/soccer.xml')\n",
    "xml_data = tree.getroot()\n",
    "\n",
    "xmlstr = ET.tostring(xml_data, encoding='utf8', method='xml')\n",
    "\n",
    "data_dict = dict(xmltodict.parse(xmlstr))\n",
    "\n",
    "print(data_dict)"
   ]
  },
  {
   "cell_type": "markdown",
   "metadata": {},
   "source": [
    "### xml数据的写入"
   ]
  },
  {
   "cell_type": "code",
   "execution_count": 48,
   "metadata": {},
   "outputs": [],
   "source": [
    "xml_data = dicttoxml(data_listofdict).decode()\n",
    "with open(\"datasets/new_soccer.xml\", \"w+\") as xml_file:\n",
    "    xml_file.write(xml_data)"
   ]
  }
 ],
 "metadata": {
  "interpreter": {
   "hash": "fd034ed54560f0698c2946b7ca675e493afbd7ee3c0ecf162ae3deac3cf4477b"
  },
  "kernelspec": {
   "display_name": "Python 3.8.12 64-bit ('pytorch': conda)",
   "language": "python",
   "name": "python3"
  },
  "language_info": {
   "codemirror_mode": {
    "name": "ipython",
    "version": 3
   },
   "file_extension": ".py",
   "mimetype": "text/x-python",
   "name": "python",
   "nbconvert_exporter": "python",
   "pygments_lexer": "ipython3",
   "version": "3.8.12"
  },
  "orig_nbformat": 4
 },
 "nbformat": 4,
 "nbformat_minor": 2
}
